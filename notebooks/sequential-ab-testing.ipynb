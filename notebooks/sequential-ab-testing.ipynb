{
 "cells": [
  {
   "cell_type": "markdown",
   "source": [
    "# Sequential A/B Testing"
   ],
   "metadata": {}
  },
  {
   "cell_type": "markdown",
   "source": [
    "A common issue with classical A / B - tests, especially when you want to detect small differences, the sample size needed can be prohibitively large. In many cases, it can take several weeks, months, or even years to collect enough data to conclude a test.\n",
    "\n",
    "Sequential testing is the practice of making decisions during an A / B test by sequentially monitoring the data as it accrues. Sequential AB - testing enables us to monitor and even interpret the test results at any time when an experiment is running.\n",
    "\n",
    "Sequential sampling works in a very non - traditional way, instead of a fixed sample size, you choose one item ( or a few) at a time and then test your hypothesis. You can either:\n",
    "- Reject the null hypothesis(H0) in favor of the alternate hypothesis(H1) and stop\n",
    "- Keep the null hypothesis and stop\n",
    "- Unable to reach either conclusion with current observation and continue sampling\n",
    "\n",
    "Some of the advantages of sequential A / B testing are:\n",
    "- They optimize necessary observation(sample size)\n",
    "- Reduce the likelihood of error\n",
    "- Finish experiment earlier without increasing the possibility of false results\n",
    "\n",
    "Common sequential testing algorithms are Evan Miller Simple Sequential A / B Testing and Sequential probability ratio testing(SPRT)\n",
    "\n",
    "General steps of conditional SPRT\n",
    "1. Calculate critical upper and lower decision boundaries\n",
    "2. Perform cummlative sum of the observation\n",
    "3. calculate test statistics(likelihood ration) for each of the observations\n",
    "4. calculate upper and lower limits for exposed group\n",
    "5. apply stopping\n",
    "\n",
    "Here I have used custome implimentation of conditional SPRT based on the paper A Conditional Sequential Test for the Equality of Two Binomial Proportions By WILLIAM Q. MEEKER, JR.\n"
   ],
   "metadata": {}
  },
  {
   "cell_type": "markdown",
   "source": [
    "## Imports"
   ],
   "metadata": {}
  },
  {
   "cell_type": "code",
   "execution_count": 3,
   "source": [
    "import scipy\n",
    "import math\n",
    "import random\n",
    "import warnings\n",
    "import numpy as np\n",
    "import pandas as pd\n",
    "import matplotlib.pyplot as plt\n",
    "import matplotlib.ticker as ticker\n",
    "# from ABTesting import DfHelper\n"
   ],
   "outputs": [],
   "metadata": {}
  },
  {
   "cell_type": "code",
   "execution_count": 4,
   "source": [
    "%matplotlib inline\n",
    "warnings.filterwarnings(\"ignore\")\n",
    "pd.set_option('display.max_columns', None)\n",
    "pd.set_option('display.max_colwidth', None)\n",
    "pd.set_option(\"expand_frame_repr\", False)\n",
    "pd.set_option('display.float_format', '{:.2f}'.format)\n"
   ],
   "outputs": [],
   "metadata": {}
  },
  {
   "cell_type": "code",
   "execution_count": 5,
   "source": [
    "sys.path.append(os.path.abspath(os.path.join('../scripts')))\n",
    "from df_helper import DfHelper"
   ],
   "outputs": [],
   "metadata": {}
  },
  {
   "cell_type": "markdown",
   "source": [
    "## Data reading"
   ],
   "metadata": {}
  },
  {
   "cell_type": "code",
   "execution_count": 6,
   "source": [
    "helper = DfHelper()\n",
    "missing_values = [\"n/a\", \"na\", \"undefined\"]\n",
    "df = helper.read_csv(\"../data/AdSmartABdata.csv\")\n",
    "df.head(5)"
   ],
   "outputs": [
    {
     "output_type": "stream",
     "name": "stdout",
     "text": [
      "2021-07-25 22:28:11,846 — DfHelper — DEBUG — file read as csv\n"
     ]
    },
    {
     "output_type": "execute_result",
     "data": {
      "text/plain": [
       "                             auction_id experiment        date  hour         device_make  platform_os                browser  yes  no\n",
       "0  0008ef63-77a7-448b-bd1e-075f42c55e39    exposed  2020-07-10     8  Generic Smartphone            6          Chrome Mobile    0   0\n",
       "1  000eabc5-17ce-4137-8efe-44734d914446    exposed  2020-07-07    10  Generic Smartphone            6          Chrome Mobile    0   0\n",
       "2  0016d14a-ae18-4a02-a204-6ba53b52f2ed    exposed  2020-07-05     2               E5823            6  Chrome Mobile WebView    0   1\n",
       "3  00187412-2932-4542-a8ef-3633901c98d9    control  2020-07-03    15   Samsung SM-A705FN            6               Facebook    0   0\n",
       "4  001a7785-d3fe-4e11-a344-c8735acacc2c    control  2020-07-03    15  Generic Smartphone            6          Chrome Mobile    0   0"
      ],
      "text/html": [
       "<div>\n",
       "<style scoped>\n",
       "    .dataframe tbody tr th:only-of-type {\n",
       "        vertical-align: middle;\n",
       "    }\n",
       "\n",
       "    .dataframe tbody tr th {\n",
       "        vertical-align: top;\n",
       "    }\n",
       "\n",
       "    .dataframe thead th {\n",
       "        text-align: right;\n",
       "    }\n",
       "</style>\n",
       "<table border=\"1\" class=\"dataframe\">\n",
       "  <thead>\n",
       "    <tr style=\"text-align: right;\">\n",
       "      <th></th>\n",
       "      <th>auction_id</th>\n",
       "      <th>experiment</th>\n",
       "      <th>date</th>\n",
       "      <th>hour</th>\n",
       "      <th>device_make</th>\n",
       "      <th>platform_os</th>\n",
       "      <th>browser</th>\n",
       "      <th>yes</th>\n",
       "      <th>no</th>\n",
       "    </tr>\n",
       "  </thead>\n",
       "  <tbody>\n",
       "    <tr>\n",
       "      <th>0</th>\n",
       "      <td>0008ef63-77a7-448b-bd1e-075f42c55e39</td>\n",
       "      <td>exposed</td>\n",
       "      <td>2020-07-10</td>\n",
       "      <td>8</td>\n",
       "      <td>Generic Smartphone</td>\n",
       "      <td>6</td>\n",
       "      <td>Chrome Mobile</td>\n",
       "      <td>0</td>\n",
       "      <td>0</td>\n",
       "    </tr>\n",
       "    <tr>\n",
       "      <th>1</th>\n",
       "      <td>000eabc5-17ce-4137-8efe-44734d914446</td>\n",
       "      <td>exposed</td>\n",
       "      <td>2020-07-07</td>\n",
       "      <td>10</td>\n",
       "      <td>Generic Smartphone</td>\n",
       "      <td>6</td>\n",
       "      <td>Chrome Mobile</td>\n",
       "      <td>0</td>\n",
       "      <td>0</td>\n",
       "    </tr>\n",
       "    <tr>\n",
       "      <th>2</th>\n",
       "      <td>0016d14a-ae18-4a02-a204-6ba53b52f2ed</td>\n",
       "      <td>exposed</td>\n",
       "      <td>2020-07-05</td>\n",
       "      <td>2</td>\n",
       "      <td>E5823</td>\n",
       "      <td>6</td>\n",
       "      <td>Chrome Mobile WebView</td>\n",
       "      <td>0</td>\n",
       "      <td>1</td>\n",
       "    </tr>\n",
       "    <tr>\n",
       "      <th>3</th>\n",
       "      <td>00187412-2932-4542-a8ef-3633901c98d9</td>\n",
       "      <td>control</td>\n",
       "      <td>2020-07-03</td>\n",
       "      <td>15</td>\n",
       "      <td>Samsung SM-A705FN</td>\n",
       "      <td>6</td>\n",
       "      <td>Facebook</td>\n",
       "      <td>0</td>\n",
       "      <td>0</td>\n",
       "    </tr>\n",
       "    <tr>\n",
       "      <th>4</th>\n",
       "      <td>001a7785-d3fe-4e11-a344-c8735acacc2c</td>\n",
       "      <td>control</td>\n",
       "      <td>2020-07-03</td>\n",
       "      <td>15</td>\n",
       "      <td>Generic Smartphone</td>\n",
       "      <td>6</td>\n",
       "      <td>Chrome Mobile</td>\n",
       "      <td>0</td>\n",
       "      <td>0</td>\n",
       "    </tr>\n",
       "  </tbody>\n",
       "</table>\n",
       "</div>"
      ]
     },
     "metadata": {},
     "execution_count": 6
    }
   ],
   "metadata": {}
  },
  {
   "cell_type": "markdown",
   "source": [
    "## Transforming the data"
   ],
   "metadata": {}
  },
  {
   "cell_type": "code",
   "execution_count": 7,
   "source": [
    "def get_bernouli_series(engagment_list, success_list):\n",
    "    bernouli_series = []\n",
    "\n",
    "    for engagment, success in zip(engagment_list, success_list):\n",
    "        no_list = (engagment - success) * [0]\n",
    "        yes_list = (success) * [1]\n",
    "        series_item = yes_list + no_list\n",
    "        random.shuffle(series_item)\n",
    "        bernouli_series += series_item\n",
    "    return bernouli_series"
   ],
   "outputs": [],
   "metadata": {}
  },
  {
   "cell_type": "code",
   "execution_count": 8,
   "source": [
    "def transform_data(df):\n",
    "    clean_df = df.query(\"not (yes == 0 & no == 0)\")\n",
    "    \n",
    "    # segment data into exposed and control groups\n",
    "    exposed = clean_df[clean_df['experiment'] == 'exposed']\n",
    "    control = clean_df[clean_df['experiment'] == 'control']\n",
    "\n",
    "    # group data into hours.\n",
    "    control['hour'] = control['hour'].astype('str')\n",
    "    control['date_hour'] = pd.to_datetime(control['date'] + \" \" + control['hour'] + \":00\" + \":00\")\n",
    "    control['date_hour'] = control['date_hour'].map(lambda x:  pd.Timestamp(x, tz=None).strftime('%Y-%m-%d:%H'))\n",
    "\n",
    "    exposed['hour'] = exposed['hour'].astype('str')\n",
    "    exposed['date_hour'] = pd.to_datetime( exposed['date'] + \" \" + exposed['hour'] + \":00\" + \":00\")\n",
    "    exposed['date_hour'] = exposed['date_hour'].map( lambda x:  pd.Timestamp(x, tz=None).strftime('%Y-%m-%d:%H'))\n",
    "\n",
    "    # create two dataframes with bernouli series 1 for posetive(yes) and 0 for negative(no)\n",
    "    cont = exposed.groupby('date_hour').agg({'yes': 'sum', 'no': 'count'})\n",
    "    cont = cont.rename(columns={'no': 'engagement', 'yes': 'success'})\n",
    "    control_bernouli = get_bernouli_series(\n",
    "        cont['engagement'].to_list(), cont['success'].to_list())\n",
    "\n",
    "    exp = exposed.groupby('date_hour').agg({'yes': 'sum', 'no': 'count'})\n",
    "    exp = exp.rename(columns={'no': 'engagement', 'yes': 'success'})\n",
    "    exposed_bernouli = get_bernouli_series(\n",
    "        exp['engagement'].to_list(), exp['success'].to_list())\n",
    "\n",
    "    return np.array(control_bernouli), np.array(exposed_bernouli)\n"
   ],
   "outputs": [],
   "metadata": {}
  },
  {
   "cell_type": "markdown",
   "source": [
    "The scripts are used to transform the data such that we can feed it to the ConditionalSPRT method.\n"
   ],
   "metadata": {}
  },
  {
   "cell_type": "code",
   "execution_count": 9,
   "source": [
    "control, exposed = transform_data(df)\n",
    "control"
   ],
   "outputs": [
    {
     "output_type": "execute_result",
     "data": {
      "text/plain": [
       "array([1, 0, 0, 1, 0, 0, 1, 0, 0, 1, 0, 1, 1, 1, 0, 1, 0, 0, 0, 1, 1, 1,\n",
       "       0, 1, 1, 1, 1, 1, 0, 1, 1, 0, 0, 0, 1, 0, 0, 1, 0, 1, 1, 0, 1, 1,\n",
       "       0, 1, 0, 1, 1, 0, 1, 0, 1, 0, 1, 0, 0, 0, 0, 1, 1, 0, 0, 0, 0, 1,\n",
       "       1, 0, 1, 0, 0, 1, 0, 0, 0, 0, 0, 0, 0, 0, 1, 0, 0, 1, 1, 1, 1, 1,\n",
       "       0, 0, 0, 1, 1, 1, 1, 0, 0, 1, 1, 0, 0, 0, 0, 0, 1, 1, 0, 0, 0, 1,\n",
       "       0, 1, 0, 1, 1, 1, 1, 1, 0, 0, 0, 1, 0, 0, 1, 0, 0, 1, 1, 0, 1, 0,\n",
       "       1, 1, 1, 0, 0, 0, 1, 0, 1, 1, 0, 1, 0, 0, 0, 0, 0, 1, 1, 1, 1, 0,\n",
       "       1, 1, 1, 0, 0, 1, 1, 0, 0, 0, 0, 1, 0, 0, 1, 1, 1, 0, 0, 0, 1, 1,\n",
       "       1, 0, 1, 0, 1, 1, 1, 0, 0, 1, 1, 0, 0, 1, 1, 0, 1, 0, 0, 0, 0, 1,\n",
       "       1, 1, 0, 1, 1, 0, 0, 0, 0, 0, 0, 0, 1, 0, 0, 0, 1, 0, 0, 0, 1, 1,\n",
       "       0, 1, 1, 0, 0, 0, 1, 0, 0, 0, 0, 1, 0, 1, 1, 0, 1, 1, 1, 1, 1, 1,\n",
       "       1, 0, 1, 1, 0, 1, 0, 1, 1, 0, 1, 0, 1, 1, 0, 1, 1, 0, 0, 1, 1, 0,\n",
       "       1, 0, 1, 0, 1, 1, 1, 1, 1, 0, 0, 0, 0, 0, 0, 1, 1, 1, 1, 0, 1, 0,\n",
       "       0, 0, 0, 0, 1, 1, 0, 0, 0, 1, 0, 0, 0, 1, 1, 1, 1, 0, 0, 0, 0, 1,\n",
       "       0, 0, 0, 0, 0, 0, 0, 1, 1, 0, 1, 0, 0, 1, 1, 1, 0, 0, 1, 0, 1, 1,\n",
       "       1, 0, 1, 0, 0, 0, 0, 0, 1, 1, 1, 1, 1, 0, 1, 1, 0, 1, 0, 1, 1, 0,\n",
       "       0, 1, 1, 0, 1, 0, 0, 0, 1, 1, 1, 1, 0, 1, 0, 0, 0, 0, 1, 0, 0, 0,\n",
       "       1, 0, 1, 1, 1, 0, 0, 1, 1, 1, 0, 0, 1, 0, 0, 0, 0, 0, 1, 0, 1, 1,\n",
       "       0, 1, 0, 0, 1, 0, 1, 1, 0, 1, 1, 0, 0, 1, 0, 0, 0, 1, 1, 1, 0, 1,\n",
       "       1, 0, 0, 1, 0, 0, 0, 1, 1, 1, 1, 0, 1, 0, 0, 1, 1, 0, 0, 0, 0, 1,\n",
       "       1, 1, 0, 0, 1, 0, 1, 1, 1, 1, 0, 1, 1, 1, 1, 1, 0, 0, 1, 1, 1, 0,\n",
       "       1, 0, 1, 0, 0, 0, 0, 0, 1, 0, 0, 1, 0, 1, 1, 0, 0, 1, 1, 0, 0, 0,\n",
       "       1, 0, 1, 0, 0, 0, 1, 1, 0, 1, 0, 1, 1, 1, 1, 1, 0, 0, 0, 0, 0, 1,\n",
       "       0, 1, 1, 1, 0, 0, 1, 1, 0, 0, 0, 0, 1, 1, 0, 0, 0, 0, 1, 0, 1, 0,\n",
       "       0, 0, 1, 1, 1, 0, 1, 0, 0, 0, 0, 1, 0, 0, 1, 1, 0, 1, 0, 0, 0, 1,\n",
       "       0, 1, 1, 1, 0, 1, 1, 0, 0, 0, 0, 0, 0, 1, 1, 1, 0, 0, 0, 1, 1, 0,\n",
       "       1, 0, 0, 0, 1, 0, 1, 0, 0, 1, 1, 1, 0, 1, 1, 1, 1, 0, 1, 1, 1, 1,\n",
       "       0, 0, 0, 0, 0, 0, 0, 0, 1, 0, 0, 0, 1, 0, 0, 0, 1, 1, 1, 1, 1, 0,\n",
       "       0, 0, 0, 0, 0, 1, 0, 0, 1, 1, 0, 0, 1, 1, 1, 1, 0, 0, 0, 0, 1, 0,\n",
       "       0, 1, 0, 0, 0, 0, 0, 1, 0, 1, 1, 0, 0, 1, 1, 0, 0, 0, 1])"
      ]
     },
     "metadata": {},
     "execution_count": 9
    }
   ],
   "metadata": {}
  },
  {
   "cell_type": "markdown",
   "source": [
    "## SPRT"
   ],
   "metadata": {}
  },
  {
   "cell_type": "code",
   "execution_count": 10,
   "source": [
    "def conditionalSPRT(x, y, t1, alpha=0.05, beta=0.10, stop=None):\n",
    "\n",
    "    if t1 <= 1:\n",
    "        print('warning', \"Odd ratio should exceed 1.\")\n",
    "    if (alpha > 0.5) | (beta > 0.5):\n",
    "        print('warning', \"Unrealistic values of alpha or beta were passed.\"\n",
    "              + \" You should have good reason to use large alpha & beta values\")\n",
    "    if stop != None:\n",
    "        stop = math.floor(n0)\n",
    "\n",
    "    def comb(n, k):\n",
    "        return math.factorial(n) // math.factorial(k) // math.factorial(n - k)\n",
    "\n",
    "    def lchoose(b, j):\n",
    "        a = []\n",
    "        if (type(j) is list) | (isinstance(j, np.ndarray) == True):\n",
    "            if len(j) < 2:\n",
    "                j = j[0]\n",
    "        if (type(j) is list) | (isinstance(j, np.ndarray) == True):\n",
    "            for k in j:\n",
    "                n = b\n",
    "                if (0 <= k) & (k <= n):\n",
    "                    a.append(math.log(comb(n, k)))\n",
    "                else:\n",
    "                    a.append(0)\n",
    "        else:\n",
    "            n = b\n",
    "            k = j\n",
    "            if (0 <= k) & (k <= n):\n",
    "                a.append(math.log(comb(n, k)))\n",
    "            else:\n",
    "                a.append(0)\n",
    "\n",
    "        return np.array(a)\n",
    "\n",
    "    def g(x, r, n, t1, t0=1):\n",
    "        return -math.log(h(x, r, n, t1))+math.log(h(x, r, n, t0))\n",
    "\n",
    "    def h(x, r, n, t=1):\n",
    "\n",
    "        return f(r, n, t, offset=ftermlog(x, r, n, t))\n",
    "\n",
    "    def f(r, n, t, offset=0):\n",
    "        upper = max(0, r-n)\n",
    "        lower = min(n, r)\n",
    "        rng = list(range(upper, lower+1))\n",
    "        return np.sum(fterm(rng, r, n, t, offset))\n",
    "\n",
    "    def fterm(j, r, n, t, offset=0):\n",
    "        ftlog = ftermlog(j, r, n, t, offset)\n",
    "        return np.array([math.exp(ex) for ex in ftlog])\n",
    "\n",
    "    def ftermlog(j, r, n, t, offset=0):\n",
    "\n",
    "        xx = r-j\n",
    "        lch = lchoose(n, j)\n",
    "        lchdiff = lchoose(n, xx)\n",
    "        lg = np.array(j)*math.log(t)\n",
    "        lgsum = lch+lchdiff\n",
    "        lgsum2 = lgsum+lg\n",
    "        lgdiff = lgsum2-offset\n",
    "\n",
    "        return lgdiff\n",
    "\n",
    "    def logf(r, n, t, offset=0):\n",
    "\n",
    "        z = f(r, n, t, offset)\n",
    "        if z > 0:\n",
    "            return math.log(z)\n",
    "        else:\n",
    "            return np.nan\n",
    "\n",
    "    def clowerUpper(r, n, t1c, t0=1, alpha=0.05, beta=0.10):\n",
    "\n",
    "        offset = ftermlog(math.ceil(r/2), r, n, t1c)\n",
    "        z = logf(r, n, t1c, logf(r, n, t0, offset)+offset)\n",
    "        a = -math.log(alpha/(1-beta))\n",
    "        b = math.log(beta/(1-alpha))\n",
    "        lower = b\n",
    "        upper = 1+a\n",
    "        return (np.array([lower, upper])+z)/math.log(t1c/t0)\n",
    "\n",
    "    l = math.log(beta/(1-alpha))\n",
    "    u = -math.log(alpha/(1-beta))\n",
    "    sample_size = min(len(x), len(y))\n",
    "    n = np.array(range(1, sample_size+1))\n",
    "\n",
    "    if stop != None:\n",
    "        n = np.array([z for z in n if z <= stop])\n",
    "    x1 = np.cumsum(x[n-1])\n",
    "    r = x1+np.cumsum(y[n-1])\n",
    "    # recurcively calls g\n",
    "    stats = np.array(list(map(g, x1, r, n, [t1]*len(x1))))\n",
    "    #\n",
    "    # Perform the test by finding the first index, if any, at which `stats`\n",
    "    # falls outside the open interval (l, u).\n",
    "    #\n",
    "    clu = list(map(clowerUpper, r, n, [\n",
    "               t1]*len(r), [1]*len(r), [alpha]*len(r), [beta]*len(r)))\n",
    "    limits = []\n",
    "    for v in clu:\n",
    "        inArray = []\n",
    "        for vin in v:\n",
    "            inArray.append(math.floor(vin))\n",
    "        limits.append(np.array(inArray))\n",
    "    limits = np.array(limits)\n",
    "\n",
    "    k = np.where((stats >= u) | (stats <= l))\n",
    "    cvalues = stats[k]\n",
    "    if cvalues.shape[0] < 1:\n",
    "        k = np.nan\n",
    "        outcome = 'Unable to conclude.Needs more sample.'\n",
    "    else:\n",
    "        k = np.min(k)\n",
    "        if stats[k] >= u:\n",
    "            outcome = f'Exposed group produced a statistically significant increase.'\n",
    "        else:\n",
    "            outcome = 'Their is no statistically significant difference between two test groups'\n",
    "    if (stop != None) & (k == np.nan):\n",
    "      #\n",
    "      # Truncate at trial stop, using Meeker's H0-conservative formula (2.2).\n",
    "      # Leave k=NA to indicate the decision was made due to truncation.\n",
    "      #\n",
    "        c1 = clowerUpper(r, stop, t1, alpha, beta)\n",
    "        c1 = math.floor(np.mean(c1)-0.5)\n",
    "        if x1[n0] <= c1:\n",
    "            truncate_decision = 'h0'\n",
    "            outcome = 'Maximum Limit Decision. The aproximate decision point shows their is no statistically significant difference between two test groups'\n",
    "        else:\n",
    "            truncate_decision = 'h1'\n",
    "            outcome = f'Maximum Limit Decision. The aproximate decision point shows exposed group produced a statistically significant increase.'\n",
    "        truncated = stop\n",
    "    else:\n",
    "        truncate_decision = 'Non'\n",
    "        truncated = np.nan\n",
    "    return (outcome, n, k, l, u, truncated, truncate_decision, x1, r, stats, limits)\n"
   ],
   "outputs": [],
   "metadata": {}
  },
  {
   "cell_type": "markdown",
   "source": [
    "## ConditionalSPRT"
   ],
   "metadata": {}
  },
  {
   "cell_type": "code",
   "execution_count": 18,
   "source": [
    "class ConditionalSPRT:\n",
    "     \n",
    "    def __init__(self, x, y, odd_ratio, alpha=0.05, beta=0.10, stop=None):\n",
    "        self.x = x\n",
    "        self.y = y\n",
    "        self.odd_ratio = odd_ratio\n",
    "        self.alpha = alpha\n",
    "        self.beta = beta\n",
    "        self.stop = stop\n",
    "   \n",
    "    def run_test(self):\n",
    "        res = conditionalSPRT( self.x, \n",
    "                               self.y, \n",
    "                               self.odd_ratio,\n",
    "                               self.alpha, \n",
    "                               self.beta,\n",
    "                               self.stop)\n",
    "        return res\n",
    "\n",
    "    def getResult(self, res, nobs):\n",
    "        outcome, n, k, l, u, truncated, truncate_decision, x1, r, stats, limits = res\n",
    "\n",
    "        lower = limits[:, 0]\n",
    "        upper = limits[:, 1]\n",
    "        output_dict = {'values': x1, 'lower': lower, 'upper': upper}\n",
    "        output_df = pd.DataFrame(output_dict, columns=[\n",
    "            'values', 'lower', 'upper'], index=x1)\n",
    "        output_df.index.name = \"n\"\n",
    "        print(\"Decision:\\t\" + outcome + \"\\n\")\n",
    "        print(output_df.round(3).iloc[-nobs:])\n",
    "\n",
    "    def plot(self, res):\n",
    "        fig, ax = plt.subplots(figsize=(16, 12))\n",
    "        outcome, n, k, l, u, truncated, truncate_decision, x1, r, stats, limits = res\n",
    "        yl = limits[:, 0]\n",
    "        yu = limits[:, 1]\n",
    "\n",
    "        ax.scatter(n, x1, color=\"#000000\", zorder=1000, clip_on=False)\n",
    "        lower_line, = ax.plot(n, yl, color=\"#00aedb\", linewidth=1)\n",
    "        upper_line, = ax.plot(n, yu, color=\"#d41243\", linewidth=1)\n",
    "        yticks, yticklabels = plt.yticks()\n",
    "        ymin = yticks[0]\n",
    "        ymax = yticks[-1]\n",
    "\n",
    "        ax.fill_between(n, yl, ymin, color=\"#00aedb\", alpha=0.5)\n",
    "        ax.fill_between(n, yu, ymax, color=\"#d41243\", alpha=0.5)\n",
    "\n",
    "        ax.spines[\"top\"].set_visible(False)\n",
    "        ax.spines[\"right\"].set_visible(False)\n",
    "        ax.get_xaxis().tick_bottom()\n",
    "        ax.get_yaxis().tick_left()\n",
    "        ax.xaxis.set_major_locator(ticker.MaxNLocator(integer=True))\n",
    "        plt.xlabel(\"Observations\")\n",
    "        plt.ylabel(\"Cumulative Sum\")\n",
    "        plt.legend(handles=[upper_line, lower_line], labels=[\n",
    "                   \"Reject Null\", \"Accept Null\"], fontsize=10, loc=2)\n",
    "        plt.show()"
   ],
   "outputs": [],
   "metadata": {}
  },
  {
   "cell_type": "code",
   "execution_count": 19,
   "source": [
    "alpha = 0.5\n",
    "beta = 0.10\n",
    "odd_ratio = 1.01\n",
    "\n",
    "conditionalSPRTObj = ConditionalSPRT(exposed, control, odd_ratio, alpha, beta)\n",
    "res = conditionalSPRTObj.run_test()"
   ],
   "outputs": [],
   "metadata": {}
  },
  {
   "cell_type": "code",
   "execution_count": 20,
   "source": [
    "conditionalSPRTObj.getResult(res, 10)"
   ],
   "outputs": [
    {
     "output_type": "stream",
     "name": "stdout",
     "text": [
      "Decision:\tUnable to conclude.Needs more sample.\n",
      "\n",
      "     values  lower  upper\n",
      "n                        \n",
      "304     304    142    463\n",
      "305     305    143    464\n",
      "306     306    144    465\n",
      "306     306    144    465\n",
      "306     306    144    465\n",
      "306     306    145    466\n",
      "307     307    145    466\n",
      "307     307    145    466\n",
      "307     307    145    466\n",
      "308     308    146    467\n"
     ]
    }
   ],
   "metadata": {}
  },
  {
   "cell_type": "code",
   "execution_count": 21,
   "source": [
    "conditionalSPRTObj.plot(res)\n"
   ],
   "outputs": [
    {
     "output_type": "display_data",
     "data": {
      "text/plain": [
       "<Figure size 1152x864 with 1 Axes>"
      ],
      "image/png": "[encoded data removed]"
     },
     "metadata": {
      "needs_background": "light"
     }
    }
   ],
   "metadata": {}
  },
  {
   "cell_type": "markdown",
   "source": [
    "Here we also get a similar result to the classical A/B test. As shown above, we cannot stop the test at this point, we have to proceed.\n"
   ],
   "metadata": {}
  },
  {
   "cell_type": "code",
   "execution_count": null,
   "source": [],
   "outputs": [],
   "metadata": {}
  }
 ],
 "metadata": {
  "orig_nbformat": 4,
  "language_info": {
   "name": "python",
   "version": "3.8.2",
   "mimetype": "text/x-python",
   "codemirror_mode": {
    "name": "ipython",
    "version": 3
   },
   "pygments_lexer": "ipython3",
   "nbconvert_exporter": "python",
   "file_extension": ".py"
  },
  "kernelspec": {
   "name": "python3",
   "display_name": "Python 3.8.2 64-bit"
  },
  "interpreter": {
   "hash": "31f2aee4e71d21fbe5cf8b01ff0e069b9275f58929596ceb00d14d90e3e16cd6"
  }
 },
 "nbformat": 4,
 "nbformat_minor": 2
}